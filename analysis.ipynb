{
 "cells": [
  {
   "cell_type": "code",
   "execution_count": 56,
   "metadata": {},
   "outputs": [
    {
     "name": "stdout",
     "output_type": "stream",
     "text": [
      "<class 'pandas.core.frame.DataFrame'>\n",
      "RangeIndex: 1540 entries, 0 to 1539\n",
      "Data columns (total 17 columns):\n",
      " #   Column                    Non-Null Count  Dtype \n",
      "---  ------                    --------------  ----- \n",
      " 0   player_name               1540 non-null   object\n",
      " 1   role                      1540 non-null   object\n",
      " 2   total_runs                1540 non-null   int64 \n",
      " 3   strike_rate               1540 non-null   object\n",
      " 4   total_balls_faced         1540 non-null   int64 \n",
      " 5   total_wickets_taken       1540 non-null   int64 \n",
      " 6   total_runs_conceded       1540 non-null   int64 \n",
      " 7   total_overs_bowled        1540 non-null   int64 \n",
      " 8   total_matches_played      1540 non-null   int64 \n",
      " 9   matches_played_as_batter  1540 non-null   int64 \n",
      " 10  matches_played_as_bowler  1540 non-null   int64 \n",
      " 11  matches_won               1540 non-null   int64 \n",
      " 12  matches_lost              1540 non-null   int64 \n",
      " 13  player_of_match_awards    1540 non-null   int64 \n",
      " 14  team                      1540 non-null   object\n",
      " 15  average                   1540 non-null   object\n",
      " 16  percentage                1540 non-null   object\n",
      "dtypes: int64(11), object(6)\n",
      "memory usage: 204.7+ KB\n"
     ]
    },
    {
     "data": {
      "text/html": [
       "<div>\n",
       "<style scoped>\n",
       "    .dataframe tbody tr th:only-of-type {\n",
       "        vertical-align: middle;\n",
       "    }\n",
       "\n",
       "    .dataframe tbody tr th {\n",
       "        vertical-align: top;\n",
       "    }\n",
       "\n",
       "    .dataframe thead th {\n",
       "        text-align: right;\n",
       "    }\n",
       "</style>\n",
       "<table border=\"1\" class=\"dataframe\">\n",
       "  <thead>\n",
       "    <tr style=\"text-align: right;\">\n",
       "      <th></th>\n",
       "      <th>player_name</th>\n",
       "      <th>role</th>\n",
       "      <th>total_runs</th>\n",
       "      <th>strike_rate</th>\n",
       "      <th>total_balls_faced</th>\n",
       "      <th>total_wickets_taken</th>\n",
       "      <th>total_runs_conceded</th>\n",
       "      <th>total_overs_bowled</th>\n",
       "      <th>total_matches_played</th>\n",
       "      <th>matches_played_as_batter</th>\n",
       "      <th>matches_played_as_bowler</th>\n",
       "      <th>matches_won</th>\n",
       "      <th>matches_lost</th>\n",
       "      <th>player_of_match_awards</th>\n",
       "      <th>team</th>\n",
       "      <th>average</th>\n",
       "      <th>percentage</th>\n",
       "    </tr>\n",
       "  </thead>\n",
       "  <tbody>\n",
       "    <tr>\n",
       "      <th>0</th>\n",
       "      <td>V Kohli</td>\n",
       "      <td>Batter</td>\n",
       "      <td>13784</td>\n",
       "      <td>9.170.381.212.161.530</td>\n",
       "      <td>15031</td>\n",
       "      <td>7</td>\n",
       "      <td>681</td>\n",
       "      <td>671</td>\n",
       "      <td>579</td>\n",
       "      <td>579</td>\n",
       "      <td>0</td>\n",
       "      <td>360</td>\n",
       "      <td>219</td>\n",
       "      <td>41</td>\n",
       "      <td>India</td>\n",
       "      <td>1.969.142.857.142.850</td>\n",
       "      <td>477,93%</td>\n",
       "    </tr>\n",
       "    <tr>\n",
       "      <th>1</th>\n",
       "      <td>KC Sangakkara</td>\n",
       "      <td>Batter</td>\n",
       "      <td>11618</td>\n",
       "      <td>7.939.046.057.127.230</td>\n",
       "      <td>14634</td>\n",
       "      <td>0</td>\n",
       "      <td>0</td>\n",
       "      <td>0</td>\n",
       "      <td>510</td>\n",
       "      <td>510</td>\n",
       "      <td>0</td>\n",
       "      <td>237</td>\n",
       "      <td>273</td>\n",
       "      <td>26</td>\n",
       "      <td>Sri Lanka</td>\n",
       "      <td>0</td>\n",
       "      <td>442,17%</td>\n",
       "    </tr>\n",
       "    <tr>\n",
       "      <th>2</th>\n",
       "      <td>RG Sharma</td>\n",
       "      <td>Batter</td>\n",
       "      <td>10646</td>\n",
       "      <td>9.035.817.348.497.700</td>\n",
       "      <td>11782</td>\n",
       "      <td>11</td>\n",
       "      <td>538</td>\n",
       "      <td>614</td>\n",
       "      <td>577</td>\n",
       "      <td>577</td>\n",
       "      <td>0</td>\n",
       "      <td>358</td>\n",
       "      <td>219</td>\n",
       "      <td>23</td>\n",
       "      <td>India</td>\n",
       "      <td>9.678.181.818.181.810</td>\n",
       "      <td>474,25%</td>\n",
       "    </tr>\n",
       "    <tr>\n",
       "      <th>3</th>\n",
       "      <td>MS Dhoni</td>\n",
       "      <td>Batter</td>\n",
       "      <td>10274</td>\n",
       "      <td>8.497.932.175.351.530</td>\n",
       "      <td>12090</td>\n",
       "      <td>1</td>\n",
       "      <td>32</td>\n",
       "      <td>38</td>\n",
       "      <td>575</td>\n",
       "      <td>575</td>\n",
       "      <td>0</td>\n",
       "      <td>356</td>\n",
       "      <td>219</td>\n",
       "      <td>20</td>\n",
       "      <td>India</td>\n",
       "      <td>10274.0</td>\n",
       "      <td>458,87%</td>\n",
       "    </tr>\n",
       "    <tr>\n",
       "      <th>4</th>\n",
       "      <td>AB de Villiers</td>\n",
       "      <td>Batter</td>\n",
       "      <td>9435</td>\n",
       "      <td>9.944.139.966.273.180</td>\n",
       "      <td>9488</td>\n",
       "      <td>7</td>\n",
       "      <td>205</td>\n",
       "      <td>201</td>\n",
       "      <td>466</td>\n",
       "      <td>466</td>\n",
       "      <td>0</td>\n",
       "      <td>286</td>\n",
       "      <td>180</td>\n",
       "      <td>26</td>\n",
       "      <td>South Africa</td>\n",
       "      <td>1.347.857.142.857.140</td>\n",
       "      <td>497,97%</td>\n",
       "    </tr>\n",
       "  </tbody>\n",
       "</table>\n",
       "</div>"
      ],
      "text/plain": [
       "      player_name    role  total_runs            strike_rate  \\\n",
       "0         V Kohli  Batter       13784  9.170.381.212.161.530   \n",
       "1   KC Sangakkara  Batter       11618  7.939.046.057.127.230   \n",
       "2       RG Sharma  Batter       10646  9.035.817.348.497.700   \n",
       "3        MS Dhoni  Batter       10274  8.497.932.175.351.530   \n",
       "4  AB de Villiers  Batter        9435  9.944.139.966.273.180   \n",
       "\n",
       "   total_balls_faced  total_wickets_taken  total_runs_conceded  \\\n",
       "0              15031                    7                  681   \n",
       "1              14634                    0                    0   \n",
       "2              11782                   11                  538   \n",
       "3              12090                    1                   32   \n",
       "4               9488                    7                  205   \n",
       "\n",
       "   total_overs_bowled  total_matches_played  matches_played_as_batter  \\\n",
       "0                 671                   579                       579   \n",
       "1                   0                   510                       510   \n",
       "2                 614                   577                       577   \n",
       "3                  38                   575                       575   \n",
       "4                 201                   466                       466   \n",
       "\n",
       "   matches_played_as_bowler  matches_won  matches_lost  \\\n",
       "0                         0          360           219   \n",
       "1                         0          237           273   \n",
       "2                         0          358           219   \n",
       "3                         0          356           219   \n",
       "4                         0          286           180   \n",
       "\n",
       "   player_of_match_awards          team                average percentage  \n",
       "0                      41         India  1.969.142.857.142.850    477,93%  \n",
       "1                      26     Sri Lanka                      0    442,17%  \n",
       "2                      23         India  9.678.181.818.181.810    474,25%  \n",
       "3                      20         India                10274.0    458,87%  \n",
       "4                      26  South Africa  1.347.857.142.857.140    497,97%  "
      ]
     },
     "execution_count": 56,
     "metadata": {},
     "output_type": "execute_result"
    }
   ],
   "source": [
    "import pandas as pd\n",
    "import numpy as np\n",
    "\n",
    "# Load the CSV file\n",
    "df = pd.read_csv('ODI Cricket Data new.csv')\n",
    "\n",
    "# First look at the data\n",
    "df.info()\n",
    "df.head()"
   ]
  },
  {
   "attachments": {},
   "cell_type": "markdown",
   "metadata": {},
   "source": [
    "# **Numpy Operations**\n",
    "**1. Creating arrays**  \n",
    "**2. Array indexing and slicing**  \n",
    "**3. Reshaping arrays**  \n",
    "**4. Concatenation and splitting**  \n",
    "**5. Universal Functions (Ufuncs)**  \n",
    "**6. Aggregations**  \n",
    "**7. Broadcasting**  \n",
    "**8. Boolean Masks and Fancy Indexing**  \n",
    "**9. Sorting**  \n",
    "**10. Structured arrays**\n",
    "\n"
   ]
  },
  {
   "cell_type": "code",
   "execution_count": 8,
   "metadata": {},
   "outputs": [
    {
     "name": "stdout",
     "output_type": "stream",
     "text": [
      "Fixed-type array (Player Names):\n",
      "['V Kohli' 'KC Sangakkara' 'RG Sharma' 'MS Dhoni' 'AB de Villiers']\n"
     ]
    }
   ],
   "source": [
    "#Fixed Type Arrays\n",
    "\n",
    "name_array = np.array(df['player_name'], dtype='<U30')  # Up to 30-character strings\n",
    "\n",
    "print(\"Fixed-type array (Player Names):\")\n",
    "print(name_array[:5])"
   ]
  },
  {
   "cell_type": "code",
   "execution_count": 9,
   "metadata": {},
   "outputs": [
    {
     "name": "stdout",
     "output_type": "stream",
     "text": [
      "Runs Array:\n",
      "[13784 11618 10646 10274  9435]\n",
      "Data type: int32\n",
      "First player’s runs: 13784\n",
      "Third player’s runs: 10646\n",
      "Last player’s runs: 0\n"
     ]
    }
   ],
   "source": [
    "# Creating a NumPy array from the 'total_runs' column\n",
    "\n",
    "runs_array = np.array(df['total_runs'], dtype=np.int32)\n",
    "\n",
    "print(\"Runs Array:\")\n",
    "print(runs_array[:5])\n",
    "print(\"Data type:\", runs_array.dtype)\n",
    "\n",
    "# Array Indexing\n",
    "\n",
    "print(\"First player’s runs:\", runs_array[0])\n",
    "print(\"Third player’s runs:\", runs_array[2])\n",
    "print(\"Last player’s runs:\", runs_array[-1])"
   ]
  },
  {
   "cell_type": "code",
   "execution_count": 11,
   "metadata": {},
   "outputs": [
    {
     "name": "stdout",
     "output_type": "stream",
     "text": [
      "First 5 players’ runs: [13784 11618 10646 10274  9435]\n",
      "Players runs of 5 to 10: [9212 8126 8040 7834 7648]\n",
      "Every second player’s runs (first 10): [13784 10646  9435  8126  7834]\n"
     ]
    }
   ],
   "source": [
    "# Array Slicing\n",
    "print(\"First 5 players’ runs:\", runs_array[:5])\n",
    "print(\"Players runs of 5 to 10:\", runs_array[5:10])\n",
    "print(\"Every second player’s runs (first 10):\", runs_array[:10:2])\n"
   ]
  },
  {
   "cell_type": "code",
   "execution_count": 12,
   "metadata": {},
   "outputs": [
    {
     "name": "stdout",
     "output_type": "stream",
     "text": [
      "Reshaped array (5 rows x 2 cols):\n",
      "[[13784 11618]\n",
      " [10646 10274]\n",
      " [ 9435  9212]\n",
      " [ 8126  8040]\n",
      " [ 7834  7648]]\n"
     ]
    }
   ],
   "source": [
    "# Reshaping Arrays\n",
    "\n",
    "reshaped_runs = runs_array[:10].reshape(5, 2)  # Take first 10 runs and reshape to 5 rows, 2 columns\n",
    "\n",
    "print(\"Reshaped array (5 rows x 2 cols):\")\n",
    "print(reshaped_runs)\n"
   ]
  },
  {
   "cell_type": "code",
   "execution_count": 15,
   "metadata": {},
   "outputs": [
    {
     "name": "stdout",
     "output_type": "stream",
     "text": [
      "[13784 11618 10646 10274  9435]\n",
      "[9212 8126 8040 7834 7648]\n",
      "Concatenated Array:\n",
      "[13784 11618 10646 10274  9435  9212  8126  8040  7834  7648]\n"
     ]
    }
   ],
   "source": [
    "# Concatenation\n",
    "first_part = runs_array[:5]\n",
    "second_part = runs_array[5:10]\n",
    "print(first_part)\n",
    "print(second_part)\n",
    "\n",
    "combined = np.concatenate([first_part, second_part])\n",
    "print(\"Concatenated Array:\")\n",
    "print(combined)"
   ]
  },
  {
   "cell_type": "code",
   "execution_count": 16,
   "metadata": {},
   "outputs": [
    {
     "name": "stdout",
     "output_type": "stream",
     "text": [
      "Split Arrays:\n",
      "[13784 11618 10646 10274  9435]\n",
      "[9212 8126 8040 7834 7648]\n"
     ]
    }
   ],
   "source": [
    "split_arrays = np.split(combined, 2)\n",
    "print(\"Split Arrays:\")\n",
    "print(split_arrays[0])  # First half\n",
    "print(split_arrays[1])  # Second half"
   ]
  },
  {
   "cell_type": "code",
   "execution_count": 33,
   "metadata": {},
   "outputs": [
    {
     "name": "stdout",
     "output_type": "stream",
     "text": [
      "Original Runs: [13784. 11618. 10646. 10274.  9435.  9212.  8126.  8040.  7834.  7648.\n",
      "  7125.  7094.  6988.  6979.  6953.  6868.  6733.  6661.  6623.  6482.]\n",
      "Square Roots: [117.40528  107.78683  103.17946  101.36074   97.13393   95.979164\n",
      "  90.144325  89.666046  88.50989   87.45284   84.40971   84.22588\n",
      "  83.59426   83.54041   83.38465   82.8734    82.05486   81.61495\n",
      "  81.38181   80.51087 ]\n",
      "Log(1 + x): [9.531337  9.360397  9.273033  9.237469  9.1522875 9.128371  9.002947\n",
      " 8.992309  8.966356  8.94233   8.871506  8.867146  8.852093  8.850804\n",
      " 8.847073  8.834774  8.814924  8.804175  8.798454  8.776938 ]\n",
      "Squared: [1.8999866e+08 1.3497792e+08 1.1333731e+08 1.0555508e+08 8.9019224e+07\n",
      " 8.4860944e+07 6.6031876e+07 6.4641600e+07 6.1371556e+07 5.8491904e+07\n",
      " 5.0765624e+07 5.0324836e+07 4.8832144e+07 4.8706440e+07 4.8344208e+07\n",
      " 4.7169424e+07 4.5333288e+07 4.4368920e+07 4.3864128e+07 4.2016324e+07]\n",
      "Exponential: [9.6898112e+05 1.1107934e+05 4.2024156e+04 2.8969539e+04 1.2518971e+04\n",
      " 1.0016609e+04 3.3812488e+03 3.1026130e+03 2.5250095e+03 2.0964480e+03\n",
      " 1.2426482e+03 1.2047169e+03 1.0835521e+03 1.0738441e+03 1.0462839e+03\n",
      " 9.6102460e+02 8.3966229e+02 7.8133173e+02 7.5219843e+02 6.5327612e+02]\n",
      "Sine: [-0.9658137   0.38052785  0.7562111   0.8371341  -0.71544534  0.75150454\n",
      "  0.9636103  -0.61658645 -0.90529686  0.9785871  -0.13175415  0.27999434\n",
      "  0.89027035 -0.9988444  -0.6095221   0.46041197 -0.53705615  0.7335797\n",
      "  0.49920952 -0.7798059 ]\n",
      "Clipped to max 1000: [1000. 1000. 1000. 1000. 1000. 1000. 1000. 1000. 1000. 1000. 1000. 1000.\n",
      " 1000. 1000. 1000. 1000. 1000. 1000. 1000. 1000.]\n"
     ]
    }
   ],
   "source": [
    "# # Select first 5 run values\n",
    "runs_array = np.array(df['total_runs'], dtype=np.float32)\n",
    "sample_runs = runs_array[:20]\n",
    "\n",
    "# Universal Functions\n",
    "sqrt_runs = np.sqrt(sample_runs)\n",
    "log_runs = np.log1p(sample_runs)        # log(1 + x)\n",
    "squared_runs = np.power(sample_runs, 2)\n",
    "exp_runs = np.exp(sample_runs / 1000)   # Exponential growth (scaled down to avoid overflow)\n",
    "sin_runs = np.sin(sample_runs)          # Sine for fun\n",
    "clipped_runs = np.clip(sample_runs, 0, 1000)  # Limit values between 0 and 1000\n",
    "\n",
    "print(\"Original Runs:\", sample_runs)\n",
    "print(\"Square Roots:\", sqrt_runs)\n",
    "print(\"Log(1 + x):\", log_runs)\n",
    "print(\"Squared:\", squared_runs)\n",
    "print(\"Exponential:\", exp_runs)\n",
    "print(\"Sine:\", sin_runs)\n",
    "print(\"Clipped to max 1000:\", clipped_runs)\n"
   ]
  },
  {
   "cell_type": "code",
   "execution_count": 19,
   "metadata": {},
   "outputs": [
    {
     "name": "stdout",
     "output_type": "stream",
     "text": [
      "Total Wickets: 16812\n",
      "Average Wickets: 10.916883116883117\n",
      "Maximum Wickets: 343\n",
      "Minimum Wickets: 0\n",
      "Standard Deviation: 27.91847315903563\n"
     ]
    }
   ],
   "source": [
    "# Aggregations on 'total_wickets_taken'\n",
    "\n",
    "wickets_array = np.array(df['total_wickets_taken'], dtype=np.int32)\n",
    "\n",
    "print(\"Total Wickets:\", np.sum(wickets_array))\n",
    "print(\"Average Wickets:\", np.mean(wickets_array))\n",
    "print(\"Maximum Wickets:\", np.max(wickets_array))\n",
    "print(\"Minimum Wickets:\", np.min(wickets_array))\n",
    "print(\"Standard Deviation:\", np.std(wickets_array))\n"
   ]
  },
  {
   "cell_type": "code",
   "execution_count": 53,
   "metadata": {},
   "outputs": [
    {
     "name": "stdout",
     "output_type": "stream",
     "text": [
      "Original Wickets: [ 7  0 11  1  7 97  0  2  0  0]\n",
      "With Bonus Wickets: [12  5 16  6 12]\n"
     ]
    }
   ],
   "source": [
    "# Broadcasting example: Add 5 bonus wickets to each player\n",
    "\n",
    "bonus_wickets = wickets_array + 5\n",
    "\n",
    "print(\"Original Wickets:\", wickets_array[:10])\n",
    "print(\"With Bonus Wickets:\", bonus_wickets[:5])\n"
   ]
  },
  {
   "cell_type": "code",
   "execution_count": 34,
   "metadata": {},
   "outputs": [
    {
     "name": "stdout",
     "output_type": "stream",
     "text": [
      "Boolean Mask (first 10): [ True  True  True  True  True  True  True  True  True  True  True  True\n",
      "  True  True  True  True  True  True  True  True]\n",
      "Number of high scorers: 37\n"
     ]
    }
   ],
   "source": [
    "# Comparisons: Players with more than 5000 runs on total_runs\n",
    "\n",
    "runs = np.array(df['total_runs'], dtype=np.int32)\n",
    "high_scorers_mask = runs > 5000  #comparing and adding boolean values\n",
    "\n",
    "print(\"Boolean Mask (first 10):\", high_scorers_mask[:20])\n",
    "print(\"Number of high scorers:\", np.sum(high_scorers_mask))  # Counts Trues\n"
   ]
  },
  {
   "cell_type": "code",
   "execution_count": 36,
   "metadata": {},
   "outputs": [
    {
     "name": "stdout",
     "output_type": "stream",
     "text": [
      "Players with more than 5000 runs:\n",
      "['V Kohli' 'KC Sangakkara' 'RG Sharma' 'MS Dhoni' 'AB de Villiers'\n",
      " 'TM Dilshan' 'LRPL Taylor' 'DPMD Jayawardene' 'HM Amla' 'Tamim Iqbal'\n",
      " 'MJ Guptill' 'Mushfiqur Rahim' 'MJ Clarke' 'RT Ponting' 'EJG Morgan'\n",
      " 'Yuvraj Singh' 'S Dhawan' 'Q de Kock' 'DA Warner' 'WU Tharanga'\n",
      " 'CH Gayle' 'SR Tendulkar' 'Mohammad Hafeez' 'V Sehwag' 'Babar Azam'\n",
      " 'AD Mathews' 'SK Raina' 'SPD Smith' 'F du Plessis' 'SR Watson' 'IR Bell'\n",
      " 'AJ Finch' 'BB McCullum' 'BRM Taylor' 'Mahmudullah' 'MEK Hussey'\n",
      " 'JC Buttler']\n"
     ]
    }
   ],
   "source": [
    "# Boolean Indexing: Get names of players with >5000 runs\n",
    "\n",
    "names = np.array(df['player_name'])\n",
    "high_scorers = names[runs > 5000]   #adding the names of players more than 5000\n",
    "\n",
    "print(\"Players with more than 5000 runs:\")\n",
    "print(high_scorers)\n"
   ]
  },
  {
   "cell_type": "code",
   "execution_count": 42,
   "metadata": {},
   "outputs": [
    {
     "name": "stdout",
     "output_type": "stream",
     "text": [
      "Selected Players: ['V Kohli' 'MS Dhoni' 'DPMD Jayawardene' 'MJ Guptill' 'RT Ponting'\n",
      " 'Yuvraj Singh' 'Q de Kock' 'WU Tharanga' 'SR Tendulkar' 'V Sehwag'\n",
      " 'AD Mathews' 'SPD Smith' 'SR Watson' 'AJ Finch' 'BRM Taylor'\n",
      " 'CJ Ferguson' 'SD Hope' 'JP Duminy' 'Misbah-ul-Haq']\n",
      "Their Runs: [13784 10274  8040  7125  6979  6868  6661  6482  6432  5692  5646  5549\n",
      "  5357  5188  5130   663  4989  4928  4752]\n"
     ]
    }
   ],
   "source": [
    "# Fancy Indexing: Select specific players by index\n",
    "\n",
    "selected_indices = [0, 3, 7, 10, 13, 15, 17, 19, 21, 23, 25, 27, 29, 31, 33, 355, 37, 39, 41]\n",
    "selected_names = names[selected_indices]\n",
    "selected_runs = runs[selected_indices]\n",
    "\n",
    "print(\"Selected Players:\", selected_names)\n",
    "print(\"Their Runs:\", selected_runs)\n"
   ]
  },
  {
   "cell_type": "code",
   "execution_count": 122,
   "metadata": {},
   "outputs": [
    {
     "name": "stdout",
     "output_type": "stream",
     "text": [
      "Top 10 Players by Total Runs:\n",
      "\n",
      "V Kohli: 13784 runs\n",
      "KC Sangakkara: 11618 runs\n",
      "RG Sharma: 10646 runs\n",
      "MS Dhoni: 10274 runs\n",
      "AB de Villiers: 9435 runs\n",
      "TM Dilshan: 9212 runs\n",
      "LRPL Taylor: 8126 runs\n",
      "DPMD Jayawardene: 8040 runs\n",
      "HM Amla: 7834 runs\n",
      "Tamim Iqbal: 7648 runs\n",
      "MJ Guptill: 7125 runs\n",
      "Mushfiqur Rahim: 7094 runs\n",
      "MJ Clarke: 6988 runs\n",
      "RT Ponting: 6979 runs\n",
      "EJG Morgan: 6953 runs\n",
      "Yuvraj Singh: 6868 runs\n",
      "S Dhawan: 6733 runs\n",
      "Q de Kock: 6661 runs\n",
      "DA Warner: 6623 runs\n",
      "WU Tharanga: 6482 runs\n",
      "CH Gayle: 6433 runs\n",
      "SR Tendulkar: 6432 runs\n",
      "Mohammad Hafeez: 6351 runs\n",
      "V Sehwag: 5692 runs\n",
      "Babar Azam: 5659 runs\n",
      "AD Mathews: 5646 runs\n",
      "SK Raina: 5585 runs\n",
      "SPD Smith: 5549 runs\n",
      "F du Plessis: 5445 runs\n",
      "SR Watson: 5357 runs\n",
      "IR Bell: 5289 runs\n",
      "AJ Finch: 5188 runs\n",
      "BB McCullum: 5157 runs\n",
      "BRM Taylor: 5130 runs\n",
      "Mahmudullah: 5127 runs\n",
      "MEK Hussey: 5076 runs\n",
      "JC Buttler: 5018 runs\n",
      "SD Hope: 4989 runs\n",
      "G Gambhir: 4981 runs\n",
      "JP Duminy: 4928 runs\n",
      "Younis Khan: 4777 runs\n",
      "Misbah-ul-Haq: 4752 runs\n",
      "DA Miller: 4466 runs\n",
      "ST Jayasuriya: 4402 runs\n",
      "AC Gilchrist: 4355 runs\n",
      "JJ Roy: 4237 runs\n",
      "MN Samuels: 4205 runs\n",
      "KP Pietersen: 4202 runs\n",
      "PD Collingwood: 4132 runs\n",
      "TWM Latham: 4019 runs\n"
     ]
    }
   ],
   "source": [
    "# Fast Sorting\n",
    "\n",
    "# Convert columns to NumPy arrays\n",
    "names = np.array(df['player_name'])\n",
    "runs = np.array(df['total_runs'], dtype=np.int32)\n",
    "\n",
    "# Sort runs and get top 100 indices (highest to lowest)\n",
    "sorted_indices = np.argsort(runs)[-50:][::-1]\n",
    "\n",
    "# Print top 100 names with their runs\n",
    "print(\"Top 10 Players by Total Runs:\\n\")\n",
    "for i in sorted_indices:\n",
    "    print(f\"{names[i]}: {runs[i]} runs\")\n",
    "\n"
   ]
  },
  {
   "cell_type": "code",
   "execution_count": 27,
   "metadata": {},
   "outputs": [
    {
     "name": "stdout",
     "output_type": "stream",
     "text": [
      "Top 5 Run Scorers:\n",
      "V Kohli : 13784\n",
      "KC Sangakkara : 11618\n",
      "RG Sharma : 10646\n",
      "MS Dhoni : 10274\n",
      "AB de Villiers : 9435\n"
     ]
    }
   ],
   "source": [
    "#partial Sorting\n",
    "# Get indices of top 5 run scorers\n",
    "top_indices = np.argsort(runs)[-5:]\n",
    "\n",
    "# Reverse for highest first\n",
    "top_indices = top_indices[::-1]\n",
    "\n",
    "# Print names and runs\n",
    "print(\"Top 5 Run Scorers:\")\n",
    "for idx in top_indices:\n",
    "    print(names[idx], \":\", runs[idx])"
   ]
  },
  {
   "cell_type": "code",
   "execution_count": 50,
   "metadata": {},
   "outputs": [
    {
     "name": "stdout",
     "output_type": "stream",
     "text": [
      "Structured Array:\n",
      "[('V Kohli', 13784,  7) ('KC Sangakkara', 11618,  0)\n",
      " ('RG Sharma', 10646, 11) ('MS Dhoni', 10274,  1)\n",
      " ('AB de Villiers',  9435,  7) ('TM Dilshan',  9212, 97)\n",
      " ('LRPL Taylor',  8126,  0) ('DPMD Jayawardene',  8040,  2)\n",
      " ('HM Amla',  7834,  0) ('Tamim Iqbal',  7648,  0)\n",
      " ('MJ Guptill',  7125,  4) ('Mushfiqur Rahim',  7094,  0)\n",
      " ('MJ Clarke',  6988, 56) ('RT Ponting',  6979,  0)\n",
      " ('EJG Morgan',  6953,  0) ('Yuvraj Singh',  6868, 99)\n",
      " ('S Dhawan',  6733,  0) ('Q de Kock',  6661,  0) ('DA Warner',  6623,  0)\n",
      " ('WU Tharanga',  6482,  0)]\n",
      "\n",
      "Player Names: ['V Kohli' 'KC Sangakkara' 'RG Sharma' 'MS Dhoni' 'AB de Villiers'\n",
      " 'TM Dilshan' 'LRPL Taylor' 'DPMD Jayawardene' 'HM Amla' 'Tamim Iqbal'\n",
      " 'MJ Guptill' 'Mushfiqur Rahim' 'MJ Clarke' 'RT Ponting' 'EJG Morgan'\n",
      " 'Yuvraj Singh' 'S Dhawan' 'Q de Kock' 'DA Warner' 'WU Tharanga']\n",
      "Runs: [13784 11618 10646 10274  9435  9212  8126  8040  7834  7648  7125  7094\n",
      "  6988  6979  6953  6868  6733  6661  6623  6482]\n",
      "Wickets: [ 7  0 11  1  7 97  0  2  0  0  4  0 56  0  0 99  0  0  0  0]\n"
     ]
    }
   ],
   "source": [
    "# Structured Array using actual dataset columns\n",
    "\n",
    "player_names = np.array(df['player_name'])\n",
    "runs = np.array(df['total_runs'], dtype=np.int32)\n",
    "wickets = np.array(df['total_wickets_taken'], dtype=np.int32)\n",
    "\n",
    "# Create structured array (first 5 players)\n",
    "structured_data = np.array([\n",
    "    (player_names[i], runs[i], wickets[i]) for i in range(20)\n",
    "], dtype=[('name', 'U30'), ('runs', 'i4'), ('wickets', 'i4')])\n",
    "\n",
    "print(\"Structured Array:\")\n",
    "print(structured_data)\n",
    "\n",
    "# Access fields(Normal Method)\n",
    "print(\"\\nPlayer Names:\", structured_data['name'])\n",
    "print(\"Runs:\", structured_data['runs'])\n",
    "print(\"Wickets:\", structured_data['wickets'])\n"
   ]
  },
  {
   "cell_type": "code",
   "execution_count": 52,
   "metadata": {},
   "outputs": [
    {
     "name": "stdout",
     "output_type": "stream",
     "text": [
      "\n",
      "Player Performances:\n",
      "V Kohli - 13784 runs, 7 wickets\n",
      "KC Sangakkara - 11618 runs, 0 wickets\n",
      "RG Sharma - 10646 runs, 11 wickets\n",
      "MS Dhoni - 10274 runs, 1 wickets\n",
      "AB de Villiers - 9435 runs, 7 wickets\n",
      "TM Dilshan - 9212 runs, 97 wickets\n",
      "LRPL Taylor - 8126 runs, 0 wickets\n",
      "DPMD Jayawardene - 8040 runs, 2 wickets\n",
      "HM Amla - 7834 runs, 0 wickets\n",
      "Tamim Iqbal - 7648 runs, 0 wickets\n",
      "MJ Guptill - 7125 runs, 4 wickets\n",
      "Mushfiqur Rahim - 7094 runs, 0 wickets\n",
      "MJ Clarke - 6988 runs, 56 wickets\n",
      "RT Ponting - 6979 runs, 0 wickets\n",
      "EJG Morgan - 6953 runs, 0 wickets\n",
      "Yuvraj Singh - 6868 runs, 99 wickets\n",
      "S Dhawan - 6733 runs, 0 wickets\n",
      "Q de Kock - 6661 runs, 0 wickets\n",
      "DA Warner - 6623 runs, 0 wickets\n",
      "WU Tharanga - 6482 runs, 0 wickets\n"
     ]
    }
   ],
   "source": [
    "# Convert to Record Array\n",
    "record_data = structured_data.view(np.recarray)\n",
    "\n",
    "# Example: Print name + runs in a loop\n",
    "print(\"\\nPlayer Performances:\")\n",
    "for i in range(20):\n",
    "    print(f\"{record_data.name[i]} - {record_data.runs[i]} runs, {record_data.wickets[i]} wickets\")"
   ]
  },
  {
   "attachments": {},
   "cell_type": "markdown",
   "metadata": {},
   "source": [
    "# **Pandas and its Operations**\n",
    "**1. Pandas Series**  \n",
    "**2. Pandas DataFrame**  \n",
    "**3. Indexing and Selecting**  \n",
    "**4. Index Alignment and Operations**  \n",
    "**5. Handling Missing Data**  \n",
    "**6. Hierarchical Indexing**\n"
   ]
  },
  {
   "cell_type": "code",
   "execution_count": 123,
   "metadata": {},
   "outputs": [
    {
     "name": "stdout",
     "output_type": "stream",
     "text": [
      "    Index       Player Name    Role  Total Runs            Strike Rate  \\\n",
      "0       0           V Kohli  Batter       13784  9.170.381.212.161.530   \n",
      "1       1     KC Sangakkara  Batter       11618  7.939.046.057.127.230   \n",
      "2       2         RG Sharma  Batter       10646  9.035.817.348.497.700   \n",
      "3       3          MS Dhoni  Batter       10274  8.497.932.175.351.530   \n",
      "4       4    AB de Villiers  Batter        9435  9.944.139.966.273.180   \n",
      "5       5        TM Dilshan  Batter        9212  8.547.833.348.798.360   \n",
      "6       6       LRPL Taylor  Batter        8126  8.093.625.498.007.960   \n",
      "7       7  DPMD Jayawardene  Batter        8040  7.857.701.329.163.400   \n",
      "8       8           HM Amla  Batter        7834  8.648.708.324.133.360   \n",
      "9       9       Tamim Iqbal  Batter        7648    766.409.459.865.718   \n",
      "10     10        MJ Guptill  Batter        7125  8.524.766.690.595.830   \n",
      "11     11   Mushfiqur Rahim  Batter        7094  7.894.502.559.537.050   \n",
      "12     12         MJ Clarke  Batter        6988  7.683.342.495.876.850   \n",
      "13     13        RT Ponting  Batter        6979    806.075.306.075.306   \n",
      "14     14        EJG Morgan  Batter        6953  8.951.976.310.029.610   \n",
      "15     15      Yuvraj Singh  Batter        6868  8.545.477.168.097.540   \n",
      "16     16          S Dhawan  Batter        6733    894.869.750.132.908   \n",
      "17     17         Q de Kock  Batter        6661  9.483.200.455.580.860   \n",
      "18     18         DA Warner  Batter        6623  9.496.702.036.134.210   \n",
      "19     19       WU Tharanga  Batter        6482  7.328.434.143.583.940   \n",
      "\n",
      "    Total Wickets  \n",
      "0               7  \n",
      "1               0  \n",
      "2              11  \n",
      "3               1  \n",
      "4               7  \n",
      "5              97  \n",
      "6               0  \n",
      "7               2  \n",
      "8               0  \n",
      "9               0  \n",
      "10              4  \n",
      "11              0  \n",
      "12             56  \n",
      "13              0  \n",
      "14              0  \n",
      "15             99  \n",
      "16              0  \n",
      "17              0  \n",
      "18              0  \n",
      "19              0  \n"
     ]
    }
   ],
   "source": [
    "#Series object\n",
    "\n",
    "# Select multiple columns to display\n",
    "columns_to_show = ['player_name', 'role', 'total_runs', 'strike_rate', 'total_wickets_taken']\n",
    "\n",
    "# Create a new DataFrame with selected columns\n",
    "runs_df = df[columns_to_show].reset_index()\n",
    "runs_df.columns = ['Index', 'Player Name', 'Role', 'Total Runs', 'Strike Rate', 'Total Wickets']\n",
    "\n",
    "# Show all rows\n",
    "pd.set_option('display.max_rows', None)\n",
    "\n",
    "# Display full table\n",
    "print(runs_df.head(20))"
   ]
  },
  {
   "cell_type": "code",
   "execution_count": 58,
   "metadata": {},
   "outputs": [
    {
     "name": "stdout",
     "output_type": "stream",
     "text": [
      "DataFrame Info:\n",
      "<class 'pandas.core.frame.DataFrame'>\n",
      "RangeIndex: 1540 entries, 0 to 1539\n",
      "Data columns (total 17 columns):\n",
      " #   Column                    Non-Null Count  Dtype \n",
      "---  ------                    --------------  ----- \n",
      " 0   player_name               1540 non-null   object\n",
      " 1   role                      1540 non-null   object\n",
      " 2   total_runs                1540 non-null   int64 \n",
      " 3   strike_rate               1540 non-null   object\n",
      " 4   total_balls_faced         1540 non-null   int64 \n",
      " 5   total_wickets_taken       1540 non-null   int64 \n",
      " 6   total_runs_conceded       1540 non-null   int64 \n",
      " 7   total_overs_bowled        1540 non-null   int64 \n",
      " 8   total_matches_played      1540 non-null   int64 \n",
      " 9   matches_played_as_batter  1540 non-null   int64 \n",
      " 10  matches_played_as_bowler  1540 non-null   int64 \n",
      " 11  matches_won               1540 non-null   int64 \n",
      " 12  matches_lost              1540 non-null   int64 \n",
      " 13  player_of_match_awards    1540 non-null   int64 \n",
      " 14  team                      1540 non-null   object\n",
      " 15  average                   1540 non-null   object\n",
      " 16  percentage                1540 non-null   object\n",
      "dtypes: int64(11), object(6)\n",
      "memory usage: 204.7+ KB\n",
      "None\n"
     ]
    }
   ],
   "source": [
    "# General structure of the DataFrame\n",
    "print(\"DataFrame Info:\")\n",
    "print(df.info())\n"
   ]
  },
  {
   "cell_type": "code",
   "execution_count": 124,
   "metadata": {},
   "outputs": [
    {
     "name": "stdout",
     "output_type": "stream",
     "text": [
      "         player_name  total_runs            strike_rate  total_wickets_taken\n",
      "0            V Kohli       13784  9.170.381.212.161.530                    7\n",
      "1      KC Sangakkara       11618  7.939.046.057.127.230                    0\n",
      "2          RG Sharma       10646  9.035.817.348.497.700                   11\n",
      "3           MS Dhoni       10274  8.497.932.175.351.530                    1\n",
      "4     AB de Villiers        9435  9.944.139.966.273.180                    7\n",
      "5         TM Dilshan        9212  8.547.833.348.798.360                   97\n",
      "6        LRPL Taylor        8126  8.093.625.498.007.960                    0\n",
      "7   DPMD Jayawardene        8040  7.857.701.329.163.400                    2\n",
      "8            HM Amla        7834  8.648.708.324.133.360                    0\n",
      "9        Tamim Iqbal        7648    766.409.459.865.718                    0\n",
      "10        MJ Guptill        7125  8.524.766.690.595.830                    4\n",
      "11   Mushfiqur Rahim        7094  7.894.502.559.537.050                    0\n",
      "12         MJ Clarke        6988  7.683.342.495.876.850                   56\n",
      "13        RT Ponting        6979    806.075.306.075.306                    0\n",
      "14        EJG Morgan        6953  8.951.976.310.029.610                    0\n",
      "15      Yuvraj Singh        6868  8.545.477.168.097.540                   99\n",
      "16          S Dhawan        6733    894.869.750.132.908                    0\n",
      "17         Q de Kock        6661  9.483.200.455.580.860                    0\n",
      "18         DA Warner        6623  9.496.702.036.134.210                    0\n",
      "19       WU Tharanga        6482  7.328.434.143.583.940                    0\n"
     ]
    }
   ],
   "source": [
    "#Indexing\n",
    "\n",
    "# Select specific columns and display as a DataFrame\n",
    "selected_columns = df[['player_name', 'total_runs', 'strike_rate', 'total_wickets_taken']]\n",
    "\n",
    "# Show all rows if you like\n",
    "pd.set_option('display.max_rows', None)\n",
    "\n",
    "# Display as table\n",
    "print(selected_columns.head(20))\n"
   ]
  },
  {
   "cell_type": "code",
   "execution_count": 83,
   "metadata": {},
   "outputs": [
    {
     "name": "stdout",
     "output_type": "stream",
     "text": [
      "First 5 Rows:\n",
      "      player_name    role  total_runs            strike_rate  \\\n",
      "0         V Kohli  Batter       13784  9.170.381.212.161.530   \n",
      "1   KC Sangakkara  Batter       11618  7.939.046.057.127.230   \n",
      "2       RG Sharma  Batter       10646  9.035.817.348.497.700   \n",
      "3        MS Dhoni  Batter       10274  8.497.932.175.351.530   \n",
      "4  AB de Villiers  Batter        9435  9.944.139.966.273.180   \n",
      "\n",
      "   total_balls_faced  total_wickets_taken  total_runs_conceded  \\\n",
      "0              15031                    7                  681   \n",
      "1              14634                    0                    0   \n",
      "2              11782                   11                  538   \n",
      "3              12090                    1                   32   \n",
      "4               9488                    7                  205   \n",
      "\n",
      "   total_overs_bowled  total_matches_played  matches_played_as_batter  \\\n",
      "0                 671                   579                       579   \n",
      "1                   0                   510                       510   \n",
      "2                 614                   577                       577   \n",
      "3                  38                   575                       575   \n",
      "4                 201                   466                       466   \n",
      "\n",
      "   matches_played_as_bowler  matches_won  matches_lost  \\\n",
      "0                         0          360           219   \n",
      "1                         0          237           273   \n",
      "2                         0          358           219   \n",
      "3                         0          356           219   \n",
      "4                         0          286           180   \n",
      "\n",
      "   player_of_match_awards          team                average percentage  \\\n",
      "0                      41         India  1.969.142.857.142.850    477,93%   \n",
      "1                      26     Sri Lanka                      0    442,17%   \n",
      "2                      23         India  9.678.181.818.181.810    474,25%   \n",
      "3                      20         India                10274.0    458,87%   \n",
      "4                      26  South Africa  1.347.857.142.857.140    497,97%   \n",
      "\n",
      "   runs_per_match  \n",
      "0       23.806563  \n",
      "1       22.780392  \n",
      "2       18.450607  \n",
      "3       17.867826  \n",
      "4       20.246781  \n",
      "\n",
      "10th Row:\n",
      "player_name                         Tamim Iqbal\n",
      "role                                     Batter\n",
      "total_runs                                 7648\n",
      "strike_rate                 766.409.459.865.718\n",
      "total_balls_faced                          9979\n",
      "total_wickets_taken                           0\n",
      "total_runs_conceded                          13\n",
      "total_overs_bowled                            7\n",
      "total_matches_played                        345\n",
      "matches_played_as_batter                    345\n",
      "matches_played_as_bowler                      0\n",
      "matches_won                                 134\n",
      "matches_lost                                211\n",
      "player_of_match_awards                       13\n",
      "team                                 Bangladesh\n",
      "average                                       0\n",
      "percentage                              433,34%\n",
      "runs_per_match                        22.168116\n",
      "Name: 9, dtype: object\n",
      "\n",
      "Rows 20 to 25:\n",
      "        player_name    role  total_runs             strike_rate  \\\n",
      "20         CH Gayle  Batter        6433   8.653.483.992.467.040   \n",
      "21     SR Tendulkar  Batter        6432   8.455.370.053.897.720   \n",
      "22  Mohammad Hafeez  Batter        6351   7.608.721.696.417.870   \n",
      "23         V Sehwag  Batter        5692  10.193.409.742.120.300   \n",
      "24       Babar Azam  Batter        5659   8.688.776.293.566.710   \n",
      "25       AD Mathews  Batter        5646     814.248.629.939.429   \n",
      "\n",
      "    total_balls_faced  total_wickets_taken  total_runs_conceded  \\\n",
      "20               7434                  112                 3569   \n",
      "21               7607                   31                 1420   \n",
      "22               8347                  142                 5081   \n",
      "23               5584                   58                 2083   \n",
      "24               6513                    0                    0   \n",
      "25               6934                  137                 4068   \n",
      "\n",
      "    total_overs_bowled  total_matches_played  matches_played_as_batter  \\\n",
      "20                4517                   427                       427   \n",
      "21                1545                   574                       574   \n",
      "22                7303                   468                       468   \n",
      "23                2475                   574                       574   \n",
      "24                   0                   462                       462   \n",
      "25                5205                   512                       512   \n",
      "\n",
      "    matches_played_as_bowler  matches_won  matches_lost  \\\n",
      "20                         0          165           262   \n",
      "21                         0          356           218   \n",
      "22                         0          227           241   \n",
      "23                         0          356           218   \n",
      "24                         0          223           239   \n",
      "25                         0          237           275   \n",
      "\n",
      "    player_of_match_awards         team                 average percentage  \\\n",
      "20                      13  West Indies                 574.375    463,37%   \n",
      "21                      16        India  20.748.387.096.774.100    457,53%   \n",
      "22                      19     Pakistan  44.725.352.112.676.000    431,66%   \n",
      "23                      15        India   9.813.793.103.448.270    504,21%   \n",
      "24                      13     Pakistan                       0    464,58%   \n",
      "25                       9    Sri Lanka   4.121.167.883.211.670    448,42%   \n",
      "\n",
      "    runs_per_match  \n",
      "20       15.065574  \n",
      "21       11.205575  \n",
      "22       13.570513  \n",
      "23        9.916376  \n",
      "24       12.248918  \n",
      "25       11.027344  \n"
     ]
    }
   ],
   "source": [
    "#  Select rows using iloc (integer-location based indexing)\n",
    "\n",
    "# Select the first 5 rows (index 0 to 4)\n",
    "first_five_rows = df.iloc[0:5]\n",
    "print(\"First 5 Rows:\")\n",
    "print(first_five_rows)\n",
    "\n",
    "# Select a specific row by index — 10th row (index 9)\n",
    "row_10 = df.iloc[9]\n",
    "print(\"\\n10th Row:\")\n",
    "print(row_10)\n",
    "\n",
    "# Select a range of rows — from index 20 to 25\n",
    "subset_rows = df.iloc[20:26]\n",
    "print(\"\\nRows 20 to 25:\")\n",
    "print(subset_rows)\n"
   ]
  },
  {
   "cell_type": "code",
   "execution_count": 65,
   "metadata": {},
   "outputs": [
    {
     "name": "stdout",
     "output_type": "stream",
     "text": [
      "Row with index label 2:\n",
      "player_name                             RG Sharma\n",
      "role                                       Batter\n",
      "total_runs                                  10646\n",
      "strike_rate                 9.035.817.348.497.700\n",
      "total_balls_faced                           11782\n",
      "total_wickets_taken                            11\n",
      "total_runs_conceded                           538\n",
      "total_overs_bowled                            614\n",
      "total_matches_played                          577\n",
      "matches_played_as_batter                      577\n",
      "matches_played_as_bowler                        0\n",
      "matches_won                                   358\n",
      "matches_lost                                  219\n",
      "player_of_match_awards                         23\n",
      "team                                        India\n",
      "average                     9.678.181.818.181.810\n",
      "percentage                                474,25%\n",
      "Name: 2, dtype: object\n",
      "\n",
      "Rows from index label 5 to 9:\n",
      "        player_name    role  total_runs            strike_rate  \\\n",
      "5        TM Dilshan  Batter        9212  8.547.833.348.798.360   \n",
      "6       LRPL Taylor  Batter        8126  8.093.625.498.007.960   \n",
      "7  DPMD Jayawardene  Batter        8040  7.857.701.329.163.400   \n",
      "8           HM Amla  Batter        7834  8.648.708.324.133.360   \n",
      "9       Tamim Iqbal  Batter        7648    766.409.459.865.718   \n",
      "\n",
      "   total_balls_faced  total_wickets_taken  total_runs_conceded  \\\n",
      "5              10777                   97                 4197   \n",
      "6              10040                    0                   35   \n",
      "7              10232                    2                   63   \n",
      "8               9058                    0                    0   \n",
      "9               9979                    0                   13   \n",
      "\n",
      "   total_overs_bowled  total_matches_played  matches_played_as_batter  \\\n",
      "5                5141                   510                       510   \n",
      "6                  45                   444                       444   \n",
      "7                  72                   510                       510   \n",
      "8                   0                   470                       470   \n",
      "9                   7                   345                       345   \n",
      "\n",
      "   matches_played_as_bowler  matches_won  matches_lost  \\\n",
      "5                         0          237           273   \n",
      "6                         0          231           213   \n",
      "7                         0          237           273   \n",
      "8                         0          290           180   \n",
      "9                         0          134           211   \n",
      "\n",
      "   player_of_match_awards          team                average percentage  \n",
      "5                      24     Sri Lanka  9.496.907.216.494.840    460,48%  \n",
      "6                      16   New Zealand                      0    447,02%  \n",
      "7                      12     Sri Lanka                 4020.0    439,63%  \n",
      "8                      16  South Africa                      0    463,41%  \n",
      "9                      13    Bangladesh                      0    433,34%  \n"
     ]
    }
   ],
   "source": [
    "# 🔹 Select rows using loc (label-based indexing)\n",
    "\n",
    "# Select the row with index label 2\n",
    "row_2 = df.loc[2]\n",
    "print(\"Row with index label 2:\")\n",
    "print(row_2)\n",
    "\n",
    "# Select rows with labels from 5 to 9 (inclusive)\n",
    "rows_5_to_9 = df.loc[5:9]\n",
    "print(\"\\nRows from index label 5 to 9:\")\n",
    "print(rows_5_to_9)\n"
   ]
  },
  {
   "cell_type": "code",
   "execution_count": 69,
   "metadata": {},
   "outputs": [
    {
     "name": "stdout",
     "output_type": "stream",
     "text": [
      "Players with more than 10,000 runs:\n",
      "         player_name  total_runs             strike_rate\n",
      "0            V Kohli       13784   9.170.381.212.161.530\n",
      "1      KC Sangakkara       11618   7.939.046.057.127.230\n",
      "2          RG Sharma       10646   9.035.817.348.497.700\n",
      "3           MS Dhoni       10274   8.497.932.175.351.530\n",
      "4     AB de Villiers        9435   9.944.139.966.273.180\n",
      "5         TM Dilshan        9212   8.547.833.348.798.360\n",
      "6        LRPL Taylor        8126   8.093.625.498.007.960\n",
      "7   DPMD Jayawardene        8040   7.857.701.329.163.400\n",
      "8            HM Amla        7834   8.648.708.324.133.360\n",
      "9        Tamim Iqbal        7648     766.409.459.865.718\n",
      "10        MJ Guptill        7125   8.524.766.690.595.830\n",
      "11   Mushfiqur Rahim        7094   7.894.502.559.537.050\n",
      "12         MJ Clarke        6988   7.683.342.495.876.850\n",
      "13        RT Ponting        6979     806.075.306.075.306\n",
      "14        EJG Morgan        6953   8.951.976.310.029.610\n",
      "15      Yuvraj Singh        6868   8.545.477.168.097.540\n",
      "16          S Dhawan        6733     894.869.750.132.908\n",
      "17         Q de Kock        6661   9.483.200.455.580.860\n",
      "18         DA Warner        6623   9.496.702.036.134.210\n",
      "19       WU Tharanga        6482   7.328.434.143.583.940\n",
      "20          CH Gayle        6433   8.653.483.992.467.040\n",
      "21      SR Tendulkar        6432   8.455.370.053.897.720\n",
      "22   Mohammad Hafeez        6351   7.608.721.696.417.870\n",
      "23          V Sehwag        5692  10.193.409.742.120.300\n",
      "24        Babar Azam        5659   8.688.776.293.566.710\n",
      "25        AD Mathews        5646     814.248.629.939.429\n",
      "26          SK Raina        5585   9.085.732.877.826.580\n",
      "27         SPD Smith        5549   8.538.236.651.792.580\n",
      "28      F du Plessis        5445   8.659.351.145.038.160\n",
      "29         SR Watson        5357   9.004.874.768.868.710\n",
      "30           IR Bell        5289   7.558.953.837.358.860\n",
      "31          AJ Finch        5188   8.456.397.718.011.410\n",
      "32       BB McCullum        5157   9.450.247.388.675.090\n",
      "33        BRM Taylor        5130   7.403.665.752.633.850\n",
      "34       Mahmudullah        5127   7.545.253.863.134.650\n",
      "35        MEK Hussey        5076     844.311.377.245.509\n",
      "36        JC Buttler        5018   1.148.283.752.860.410\n"
     ]
    }
   ],
   "source": [
    "# 🔹 Filter players who scored more than 10,000 runs\n",
    "high_scorers = df[df['total_runs'] > 5000]\n",
    "print(\"Players with more than 10,000 runs:\")\n",
    "print(high_scorers[['player_name', 'total_runs','strike_rate']])\n"
   ]
  },
  {
   "cell_type": "code",
   "execution_count": 80,
   "metadata": {},
   "outputs": [
    {
     "name": "stdout",
     "output_type": "stream",
     "text": [
      "         player_name  total_runs  total_matches_played  runs_per_match\n",
      "0            V Kohli       13784                   579       23.806563\n",
      "1      KC Sangakkara       11618                   510       22.780392\n",
      "2          RG Sharma       10646                   577       18.450607\n",
      "3           MS Dhoni       10274                   575       17.867826\n",
      "4     AB de Villiers        9435                   466       20.246781\n",
      "5         TM Dilshan        9212                   510       18.062745\n",
      "6        LRPL Taylor        8126                   444       18.301802\n",
      "7   DPMD Jayawardene        8040                   510       15.764706\n",
      "8            HM Amla        7834                   470       16.668085\n",
      "9        Tamim Iqbal        7648                   345       22.168116\n",
      "10        MJ Guptill        7125                   444       16.047297\n",
      "11   Mushfiqur Rahim        7094                   345       20.562319\n",
      "12         MJ Clarke        6988                   545       12.822018\n",
      "13        RT Ponting        6979                   545       12.805505\n",
      "14        EJG Morgan        6953                   517       13.448743\n",
      "15      Yuvraj Singh        6868                   579       11.861831\n",
      "16          S Dhawan        6733                   577       11.668977\n",
      "17         Q de Kock        6661                   470       14.172340\n",
      "18         DA Warner        6623                   545       12.152294\n",
      "19       WU Tharanga        6482                   512       12.660156\n",
      "20          CH Gayle        6433                   427       15.065574\n",
      "21      SR Tendulkar        6432                   574       11.205575\n",
      "22   Mohammad Hafeez        6351                   468       13.570513\n",
      "23          V Sehwag        5692                   574        9.916376\n",
      "24        Babar Azam        5659                   462       12.248918\n",
      "25        AD Mathews        5646                   512       11.027344\n",
      "26          SK Raina        5585                   579        9.645941\n",
      "27         SPD Smith        5549                   543       10.219153\n",
      "28      F du Plessis        5445                   470       11.585106\n",
      "29         SR Watson        5357                   544        9.847426\n"
     ]
    }
   ],
   "source": [
    "#Arithemetic Functions\n",
    "\n",
    "# Calculate average runs per match\n",
    "df['runs_per_match'] = df['total_runs'] / df['total_matches_played']\n",
    "\n",
    "# Display selected columns\n",
    "print(df[['player_name', 'total_runs', 'total_matches_played', 'runs_per_match']].head(30))\n"
   ]
  },
  {
   "cell_type": "code",
   "execution_count": 81,
   "metadata": {},
   "outputs": [
    {
     "name": "stdout",
     "output_type": "stream",
     "text": [
      "🔢 Total Runs Scored: 973863\n",
      "📊 Average Strike Rate: 632.3785714285714\n",
      "⬇️ Minimum Runs Conceded: 0\n",
      "⬆️ Maximum Overs Bowled: 10803\n",
      "\n",
      "🏏 Player Roles Count:\n",
      " role\n",
      "Batter    1540\n",
      "Name: count, dtype: int64\n"
     ]
    }
   ],
   "source": [
    "# Series Operations on ODI Cricket Dataset\n",
    "\n",
    "print(\"🔢 Total Runs Scored:\", df[\"total_runs\"].sum())                     # Total Runs\n",
    "print(\"📊 Average Strike Rate:\", df[\"total_runs\"].mean())                # Average Strike Rate\n",
    "print(\"⬇️ Minimum Runs Conceded:\", df[\"total_runs_conceded\"].min())       # Min Runs Conceded\n",
    "print(\"⬆️ Maximum Overs Bowled:\", df[\"total_overs_bowled\"].max())         # Max Overs Bowled\n",
    "print(\"\\n🏏 Player Roles Count:\\n\", df[\"role\"].value_counts())             # Count by Player Role\n"
   ]
  },
  {
   "cell_type": "code",
   "execution_count": 85,
   "metadata": {},
   "outputs": [
    {
     "name": "stdout",
     "output_type": "stream",
     "text": [
      "              Player  Total Runs   Sqrt Runs  Log(1+Runs)  Runs Squared\n",
      "0            V Kohli       13784  117.405281     9.531336     189998656\n",
      "1      KC Sangakkara       11618  107.786827     9.360397     134977924\n",
      "2          RG Sharma       10646  103.179455     9.273033     113337316\n",
      "3           MS Dhoni       10274  101.360742     9.237469     105555076\n",
      "4     AB de Villiers        9435   97.133928     9.152287      89019225\n",
      "5         TM Dilshan        9212   95.979164     9.128371      84860944\n",
      "6        LRPL Taylor        8126   90.144329     9.002947      66031876\n",
      "7   DPMD Jayawardene        8040   89.666047     8.992309      64641600\n",
      "8            HM Amla        7834   88.509886     8.966356      61371556\n",
      "9        Tamim Iqbal        7648   87.452844     8.942330      58491904\n",
      "10        MJ Guptill        7125   84.409715     8.871505      50765625\n",
      "11   Mushfiqur Rahim        7094   84.225887     8.867146      50324836\n",
      "12         MJ Clarke        6988   83.594258     8.852093      48832144\n",
      "13        RT Ponting        6979   83.540409     8.850804      48706441\n",
      "14        EJG Morgan        6953   83.384651     8.847072      48344209\n",
      "15      Yuvraj Singh        6868   82.873397     8.834774      47169424\n",
      "16          S Dhawan        6733   82.054860     8.814925      45333289\n",
      "17         Q de Kock        6661   81.614950     8.804175      44368921\n",
      "18         DA Warner        6623   81.381816     8.798455      43864129\n",
      "19       WU Tharanga        6482   80.510869     8.776939      42016324\n",
      "20          CH Gayle        6433   80.205985     8.769352      41383489\n",
      "21      SR Tendulkar        6432   80.199751     8.769196      41370624\n",
      "22   Mohammad Hafeez        6351   79.693162     8.756525      40335201\n",
      "23          V Sehwag        5692   75.445344     8.646993      32398864\n",
      "24        Babar Azam        5659   75.226325     8.641179      32024281\n",
      "25        AD Mathews        5646   75.139870     8.638880      31877316\n",
      "26          SK Raina        5585   74.732858     8.628019      31192225\n",
      "27         SPD Smith        5549   74.491610     8.621553      30791401\n",
      "28      F du Plessis        5445   73.790243     8.602637      29648025\n",
      "29         SR Watson        5357   73.191530     8.586346      28697449\n"
     ]
    }
   ],
   "source": [
    "# Apply universal functions to 'total_runs'\n",
    "\n",
    "sqrt_runs = np.sqrt(df['total_runs'])\n",
    "log_runs = np.log1p(df['total_runs'])  # log(1 + x)\n",
    "squared_runs = np.square(df['total_runs'])\n",
    "\n",
    "# Display sample with index to show index preservation\n",
    "result_df = pd.DataFrame({\n",
    "    'Player': df['player_name'],\n",
    "    'Total Runs': df['total_runs'],\n",
    "    'Sqrt Runs': sqrt_runs,\n",
    "    'Log(1+Runs)': log_runs,\n",
    "    'Runs Squared': squared_runs\n",
    "})\n",
    "\n",
    "# Show first 5 rows\n",
    "print(result_df.head(30))"
   ]
  },
  {
   "cell_type": "code",
   "execution_count": 89,
   "metadata": {},
   "outputs": [
    {
     "name": "stdout",
     "output_type": "stream",
     "text": [
      "        player_name          team  total_runs  run_diff_from_team_avg\n",
      "0           V Kohli         India       13784            12746.411765\n",
      "1     KC Sangakkara     Sri Lanka       11618            10753.982301\n",
      "2         RG Sharma         India       10646             9608.411765\n",
      "3          MS Dhoni         India       10274             9236.411765\n",
      "4    AB de Villiers  South Africa        9435             8483.260870\n",
      "5        TM Dilshan     Sri Lanka        9212             8347.982301\n",
      "6       LRPL Taylor   New Zealand        8126             7366.377778\n",
      "7  DPMD Jayawardene     Sri Lanka        8040             7175.982301\n",
      "8           HM Amla  South Africa        7834             6882.260870\n",
      "9       Tamim Iqbal    Bangladesh        7648             7055.168675\n"
     ]
    }
   ],
   "source": [
    "#Index Alignment with 'total_runs'\n",
    "\n",
    "# Group-wise average total runs by team\n",
    "team_avg_runs = df.groupby(\"team\")[\"total_runs\"].mean()\n",
    "\n",
    "# Subtract average team runs from each player's runs\n",
    "df[\"run_diff_from_team_avg\"] = df[\"total_runs\"] - df[\"team\"].map(team_avg_runs)\n",
    "\n",
    "# Show result with index-aligned columns\n",
    "result = df[[\"player_name\", \"team\", \"total_runs\", \"run_diff_from_team_avg\"]]\n",
    "print(result.head(10))\n"
   ]
  },
  {
   "cell_type": "code",
   "execution_count": 100,
   "metadata": {},
   "outputs": [
    {
     "name": "stdout",
     "output_type": "stream",
     "text": [
      "Missing Values Per Column:\n",
      " player_name                 0\n",
      "role                        0\n",
      "total_runs                  0\n",
      "strike_rate                 0\n",
      "total_balls_faced           0\n",
      "total_wickets_taken         0\n",
      "total_runs_conceded         0\n",
      "total_overs_bowled          0\n",
      "total_matches_played        0\n",
      "matches_played_as_batter    0\n",
      "matches_played_as_bowler    0\n",
      "matches_won                 0\n",
      "matches_lost                0\n",
      "player_of_match_awards      0\n",
      "team                        0\n",
      "average                     0\n",
      "percentage                  0\n",
      "runs_per_match              0\n",
      "run_diff_from_team_avg      0\n",
      "dtype: int64\n"
     ]
    }
   ],
   "source": [
    "# 🔍 Check for missing values in the DataFrame\n",
    "missing_values = df.isnull().sum()\n",
    "print(\"Missing Values Per Column:\\n\", missing_values)"
   ]
  },
  {
   "cell_type": "code",
   "execution_count": 125,
   "metadata": {},
   "outputs": [
    {
     "name": "stdout",
     "output_type": "stream",
     "text": [
      "Missing values handled (filled with mean):\n",
      "         player_name  total_runs  total_balls_faced                 average\n",
      "0            V Kohli       13784              15031   1.969.142.857.142.850\n",
      "1      KC Sangakkara       11618              14634                       0\n",
      "2          RG Sharma       10646              11782   9.678.181.818.181.810\n",
      "3           MS Dhoni       10274              12090                 10274.0\n",
      "4     AB de Villiers        9435               9488   1.347.857.142.857.140\n",
      "5         TM Dilshan        9212              10777   9.496.907.216.494.840\n",
      "6        LRPL Taylor        8126              10040                       0\n",
      "7   DPMD Jayawardene        8040              10232                  4020.0\n",
      "8            HM Amla        7834               9058                       0\n",
      "9        Tamim Iqbal        7648               9979                       0\n",
      "10        MJ Guptill        7125               8358                 1781.25\n",
      "11   Mushfiqur Rahim        7094               8986                       0\n",
      "12         MJ Clarke        6988               9095  12.478.571.428.571.400\n",
      "13        RT Ponting        6979               8658                       0\n",
      "14        EJG Morgan        6953               7767                       0\n",
      "15      Yuvraj Singh        6868               8037   6.937.373.737.373.730\n",
      "16          S Dhawan        6733               7524                       0\n",
      "17         Q de Kock        6661               7024                       0\n",
      "18         DA Warner        6623               6974                       0\n",
      "19       WU Tharanga        6482               8845                       0\n"
     ]
    }
   ],
   "source": [
    "# Fill numeric columns' missing values with their respective column means\n",
    "df_filled_mean = df.fillna(df.mean(numeric_only=True))\n",
    "\n",
    "# ✅ Display first 20 rows to verify\n",
    "print(\"Missing values handled (filled with mean):\")\n",
    "print(df_filled_mean[[\"player_name\", \"total_runs\", \"total_balls_faced\", \"average\"]].head(20))\n"
   ]
  },
  {
   "cell_type": "code",
   "execution_count": 99,
   "metadata": {},
   "outputs": [
    {
     "name": "stdout",
     "output_type": "stream",
     "text": [
      "Sample data with Hierarchical Index:\n",
      "                          player_name  total_runs                 average\n",
      "team         role                                                        \n",
      "India        Batter           V Kohli       13784   1.969.142.857.142.850\n",
      "Sri Lanka    Batter     KC Sangakkara       11618                       0\n",
      "India        Batter         RG Sharma       10646   9.678.181.818.181.810\n",
      "             Batter          MS Dhoni       10274                 10274.0\n",
      "South Africa Batter    AB de Villiers        9435   1.347.857.142.857.140\n",
      "Sri Lanka    Batter        TM Dilshan        9212   9.496.907.216.494.840\n",
      "New Zealand  Batter       LRPL Taylor        8126                       0\n",
      "Sri Lanka    Batter  DPMD Jayawardene        8040                  4020.0\n",
      "South Africa Batter           HM Amla        7834                       0\n",
      "Bangladesh   Batter       Tamim Iqbal        7648                       0\n",
      "New Zealand  Batter        MJ Guptill        7125                 1781.25\n",
      "Bangladesh   Batter   Mushfiqur Rahim        7094                       0\n",
      "Australia    Batter         MJ Clarke        6988  12.478.571.428.571.400\n",
      "             Batter        RT Ponting        6979                       0\n",
      "England      Batter        EJG Morgan        6953                       0\n",
      "India        Batter      Yuvraj Singh        6868   6.937.373.737.373.730\n",
      "             Batter          S Dhawan        6733                       0\n",
      "South Africa Batter         Q de Kock        6661                       0\n",
      "Australia    Batter         DA Warner        6623                       0\n",
      "Sri Lanka    Batter       WU Tharanga        6482                       0\n"
     ]
    }
   ],
   "source": [
    "# Set a MultiIndex using 'team' and 'role'\n",
    "df_multi = df.set_index(['team', 'role'])\n",
    "\n",
    "# 🔍 View a small portion\n",
    "print(\"Sample data with Hierarchical Index:\")\n",
    "print(df_multi[[\"player_name\", \"total_runs\", \"average\"]].head(20))\n"
   ]
  },
  {
   "cell_type": "code",
   "execution_count": 104,
   "metadata": {},
   "outputs": [
    {
     "name": "stdout",
     "output_type": "stream",
     "text": [
      "\n",
      "🔹 Merged Data with Star Player Info:\n",
      "         player_name  total_runs            strike_rate star_player\n",
      "0            V Kohli       13784  9.170.381.212.161.530        True\n",
      "1      KC Sangakkara       11618  7.939.046.057.127.230       False\n",
      "2          RG Sharma       10646  9.035.817.348.497.700        True\n",
      "3           MS Dhoni       10274  8.497.932.175.351.530       False\n",
      "4     AB de Villiers        9435  9.944.139.966.273.180        True\n",
      "5         TM Dilshan        9212  8.547.833.348.798.360         NaN\n",
      "6        LRPL Taylor        8126  8.093.625.498.007.960         NaN\n",
      "7   DPMD Jayawardene        8040  7.857.701.329.163.400         NaN\n",
      "8            HM Amla        7834  8.648.708.324.133.360         NaN\n",
      "9        Tamim Iqbal        7648    766.409.459.865.718         NaN\n",
      "10        MJ Guptill        7125  8.524.766.690.595.830         NaN\n",
      "11   Mushfiqur Rahim        7094  7.894.502.559.537.050         NaN\n",
      "12         MJ Clarke        6988  7.683.342.495.876.850         NaN\n",
      "13        RT Ponting        6979    806.075.306.075.306         NaN\n",
      "14        EJG Morgan        6953  8.951.976.310.029.610         NaN\n"
     ]
    }
   ],
   "source": [
    "# 🌟 Create extra DataFrame with 'star_player' flag\n",
    "extra_data = pd.DataFrame({\n",
    "    \"player_name\": df[\"player_name\"].head(),  # First few player names\n",
    "    \"star_player\": [True, False, True, False, True]  # Sample values\n",
    "})\n",
    "\n",
    "# 🔄 Merge with original dataframe on 'player_name'\n",
    "df_merged = df.merge(extra_data, on=\"player_name\", how=\"left\")\n",
    "\n",
    "# 🖨️ Show merged result\n",
    "print(\"\\n🔹 Merged Data with Star Player Info:\")\n",
    "print(df_merged[[\"player_name\", \"total_runs\", \"strike_rate\", \"star_player\"]].head(15))\n"
   ]
  },
  {
   "attachments": {},
   "cell_type": "markdown",
   "metadata": {},
   "source": [
    "# **Combining Datasets** \n",
    "**1. Concatenation**  \n",
    "**2. Merging**  \n",
    "**3. Joins**  \n",
    "**4. Aggregation and Grouping**  \n",
    "**5. Pivot Tables**\n"
   ]
  },
  {
   "cell_type": "code",
   "execution_count": 106,
   "metadata": {},
   "outputs": [
    {
     "name": "stdout",
     "output_type": "stream",
     "text": [
      "🔗 Concatenated DataFrame (row-wise):\n",
      "      player_name  total_runs  total_wickets_taken\n",
      "0         V Kohli     13784.0                  NaN\n",
      "1   KC Sangakkara     11618.0                  NaN\n",
      "2       RG Sharma     10646.0                  NaN\n",
      "3        MS Dhoni     10274.0                  NaN\n",
      "4  AB de Villiers      9435.0                  NaN\n",
      "0         V Kohli         NaN                  7.0\n",
      "1   KC Sangakkara         NaN                  0.0\n",
      "2       RG Sharma         NaN                 11.0\n",
      "3        MS Dhoni         NaN                  1.0\n",
      "4  AB de Villiers         NaN                  7.0\n"
     ]
    }
   ],
   "source": [
    "# CONCATENATION using pd.concat (Row-wise)\n",
    "\n",
    "# Select top 3 batters and bowlers (from relevant columns)\n",
    "top_batters = df[[\"player_name\", \"total_runs\"]].head(5)\n",
    "top_bowlers = df[[\"player_name\", \"total_wickets_taken\"]].head(5)\n",
    "\n",
    "# Concatenate vertically (stack rows)\n",
    "concat_df = pd.concat([top_batters, top_bowlers], axis=0)\n",
    "\n",
    "# Display the result\n",
    "print(\"🔗 Concatenated DataFrame (row-wise):\")\n",
    "print(concat_df)\n"
   ]
  },
  {
   "cell_type": "code",
   "execution_count": 108,
   "metadata": {},
   "outputs": [
    {
     "name": "stdout",
     "output_type": "stream",
     "text": [
      "➕ Appended DataFrame (with new player):\n",
      "      player_name  total_runs\n",
      "0         V Kohli       13784\n",
      "1   KC Sangakkara       11618\n",
      "2       RG Sharma       10646\n",
      "3        MS Dhoni       10274\n",
      "4  AB de Villiers        9435\n",
      "5      New Legend       12345\n"
     ]
    }
   ],
   "source": [
    "# 🔹 APPEND (modern way using pd.concat)\n",
    "\n",
    "# Create a small DataFrame to append\n",
    "new_player = pd.DataFrame({\n",
    "    \"player_name\": [\"New Legend\"],\n",
    "    \"total_runs\": [12345]\n",
    "})\n",
    "#append method is not there for DataFrame so we are using Concat\n",
    "# Append using concat\n",
    "updated_batters = pd.concat([top_batters, new_player], ignore_index=True)\n",
    "\n",
    "# Display the result\n",
    "print(\"➕ Appended DataFrame (with new player):\")\n",
    "print(updated_batters)\n"
   ]
  },
  {
   "cell_type": "code",
   "execution_count": 111,
   "metadata": {},
   "outputs": [
    {
     "name": "stdout",
     "output_type": "stream",
     "text": [
      "🔗 Merged DataFrame (with awards info):\n",
      "         player_name          team  total_runs  awards\n",
      "0            V Kohli         India       13784    10.0\n",
      "1      KC Sangakkara     Sri Lanka       11618     5.0\n",
      "2          RG Sharma         India       10646     3.0\n",
      "3           MS Dhoni         India       10274     7.0\n",
      "4     AB de Villiers  South Africa        9435    22.0\n",
      "5         TM Dilshan     Sri Lanka        9212    33.0\n",
      "6        LRPL Taylor   New Zealand        8126     2.0\n",
      "7   DPMD Jayawardene     Sri Lanka        8040    11.0\n",
      "8            HM Amla  South Africa        7834    24.0\n",
      "9        Tamim Iqbal    Bangladesh        7648     1.0\n",
      "10        MJ Guptill   New Zealand        7125     NaN\n",
      "11   Mushfiqur Rahim    Bangladesh        7094     NaN\n",
      "12         MJ Clarke     Australia        6988     NaN\n",
      "13        RT Ponting     Australia        6979     NaN\n",
      "14        EJG Morgan       England        6953     NaN\n",
      "15      Yuvraj Singh         India        6868     NaN\n",
      "16          S Dhawan         India        6733     NaN\n",
      "17         Q de Kock  South Africa        6661     NaN\n",
      "18         DA Warner     Australia        6623     NaN\n",
      "19       WU Tharanga     Sri Lanka        6482     NaN\n"
     ]
    }
   ],
   "source": [
    "# 🔁 MERGE and JOIN\n",
    "\n",
    "# Create extra player info (e.g., player role or awards)\n",
    "extra_info = pd.DataFrame({\n",
    "    \"player_name\": df[\"player_name\"].head(10),\n",
    "    \"awards\": [10, 5, 3, 7, 22,33,2,11,24,1]\n",
    "})\n",
    "\n",
    "# Merge on 'player_name' (INNER JOIN by default)\n",
    "merged_df = df.merge(extra_info, on=\"player_name\", how=\"left\")\n",
    "\n",
    "# Display merged result\n",
    "print(\"🔗 Merged DataFrame (with awards info):\")\n",
    "print(merged_df[[\"player_name\", \"team\", \"total_runs\", \"awards\"]].head(20))\n"
   ]
  },
  {
   "cell_type": "code",
   "execution_count": 120,
   "metadata": {},
   "outputs": [
    {
     "name": "stdout",
     "output_type": "stream",
     "text": [
      "📎 Joined DataFrame (Default):\n",
      "             age country  total_runs                average   team\n",
      "player_name                                                       \n",
      "V Kohli       35   India       13784  1.969.142.857.142.850  India\n",
      "RG Sharma     36   India       10646  9.678.181.818.181.810  India\n",
      "MS Dhoni      42   India       10274                10274.0  India\n",
      "\n",
      "🔗 Inner Join:\n",
      "             age country  total_runs                average   team\n",
      "player_name                                                       \n",
      "V Kohli       35   India       13784  1.969.142.857.142.850  India\n",
      "RG Sharma     36   India       10646  9.678.181.818.181.810  India\n",
      "MS Dhoni      42   India       10274                10274.0  India\n",
      "\n",
      "🔄 Outer Join:\n",
      "             age country  total_runs                average   team\n",
      "player_name                                                       \n",
      "MS Dhoni      42   India       10274                10274.0  India\n",
      "RG Sharma     36   India       10646  9.678.181.818.181.810  India\n",
      "V Kohli       35   India       13784  1.969.142.857.142.850  India\n",
      "\n",
      "➡️ Right Join:\n",
      "             age country  total_runs                average   team\n",
      "player_name                                                       \n",
      "V Kohli       35   India       13784  1.969.142.857.142.850  India\n",
      "RG Sharma     36   India       10646  9.678.181.818.181.810  India\n",
      "MS Dhoni      42   India       10274                10274.0  India\n"
     ]
    }
   ],
   "source": [
    "# 🔗 JOINS\n",
    "# Create player biodata (e.g., age, country)\n",
    "df_bio = pd.DataFrame({\n",
    "    \"player_name\": [\"V Kohli\", \"RG Sharma\", \"MS Dhoni\"],\n",
    "    \"age\": [35, 36, 42],\n",
    "    \"country\": [\"India\", \"India\", \"India\"]\n",
    "}).set_index(\"player_name\")\n",
    "\n",
    "# Create player stats (subset from original dataset)\n",
    "df_stats = df[[\"player_name\", \"total_runs\", \"average\", \"team\"]].set_index(\"player_name\").loc[[\"V Kohli\", \"RG Sharma\", \"MS Dhoni\"]]\n",
    "\n",
    "# JOIN: Combine biodata with stats\n",
    "df_joined = df_bio.join(df_stats)\n",
    "print(\"📎 Joined DataFrame (Default):\")\n",
    "print(df_joined)\n",
    "\n",
    "# INNER JOIN: Only common players in both\n",
    "df_inner = df_bio.join(df_stats, how=\"inner\")\n",
    "print(\"\\n🔗 Inner Join:\")\n",
    "print(df_inner)\n",
    "\n",
    "# OUTER JOIN: All players from both, fill missing with NaN\n",
    "df_outer = df_bio.join(df_stats, how=\"outer\")\n",
    "print(\"\\n🔄 Outer Join:\")\n",
    "print(df_outer)\n",
    "\n",
    "# RIGHT JOIN: All players from stats\n",
    "df_right = df_bio.join(df_stats, how=\"right\")\n",
    "print(\"\\n➡️ Right Join:\")\n",
    "print(df_right)"
   ]
  },
  {
   "cell_type": "code",
   "execution_count": 116,
   "metadata": {},
   "outputs": [
    {
     "name": "stdout",
     "output_type": "stream",
     "text": [
      "📈 Aggregated Team Statistics:\n",
      "                        team  total_runs  matches_won  total_wickets_taken\n",
      "0                  Australia      115980   343.422680                 1644\n",
      "1                 Bangladesh       49205   104.048193                  746\n",
      "2                    Bermuda         739     1.722222                   20\n",
      "3                     Canada        8173    12.566667                  205\n",
      "4                    England       93969   271.224299                 1151\n",
      "5                  Hong Kong        2373     3.705882                   10\n",
      "6                      India      123473   294.277311                 1866\n",
      "7                    Ireland       25869    47.781250                  420\n",
      "8                     Jersey         887     1.000000                   27\n",
      "9                      Kenya        4980    12.210526                  131\n",
      "10                   Namibia        9738    24.482759                  320\n",
      "11                     Nepal       12132    29.148148                  489\n",
      "12               Netherlands       13730    23.369231                  315\n",
      "13               New Zealand       68366   201.544444                  904\n",
      "14                      Oman        5121    24.315789                   36\n",
      "15                  Pakistan       82673   200.577982                  965\n",
      "16          Papua New Guinea       10318    10.352941                  370\n",
      "17                  Scotland       19467    45.969697                  504\n",
      "18              South Africa       87560   257.793478                 1818\n",
      "19                 Sri Lanka       97634   207.150442                 1751\n",
      "20                  Thailand        1391     7.538462                   84\n",
      "21      United Arab Emirates       15914    28.187500                  409\n",
      "22  United States of America        7423    24.558140                   63\n",
      "23               West Indies       79325   146.914530                 1999\n",
      "24                  Zimbabwe       37423    59.912500                  565\n"
     ]
    }
   ],
   "source": [
    "# 📊 AGGREGATION AND GROUPING\n",
    "\n",
    "# Group by team and calculate total runs and average strike rate\n",
    "team_stats = df.groupby(\"team\").agg({\n",
    "    \"total_runs\": \"sum\",\n",
    "    \"matches_won\": \"mean\",\n",
    "    \"total_wickets_taken\": \"sum\"\n",
    "}).reset_index()\n",
    "\n",
    "# Display aggregated team stats\n",
    "print(\"📈 Aggregated Team Statistics:\")\n",
    "print(team_stats)\n"
   ]
  },
  {
   "cell_type": "code",
   "execution_count": 118,
   "metadata": {},
   "outputs": [
    {
     "name": "stdout",
     "output_type": "stream",
     "text": [
      "📊 Pivot Table - Total Runs by Role and Team:\n",
      "role                      Batter\n",
      "team                            \n",
      "Australia                 115980\n",
      "Bangladesh                 49205\n",
      "Bermuda                      739\n",
      "Canada                      8173\n",
      "England                    93969\n",
      "Hong Kong                   2373\n",
      "India                     123473\n",
      "Ireland                    25869\n",
      "Jersey                       887\n",
      "Kenya                       4980\n",
      "Namibia                     9738\n",
      "Nepal                      12132\n",
      "Netherlands                13730\n",
      "New Zealand                68366\n",
      "Oman                        5121\n",
      "Pakistan                   82673\n",
      "Papua New Guinea           10318\n",
      "Scotland                   19467\n",
      "South Africa               87560\n",
      "Sri Lanka                  97634\n",
      "Thailand                    1391\n",
      "United Arab Emirates       15914\n",
      "United States of America    7423\n",
      "West Indies                79325\n",
      "Zimbabwe                   37423\n"
     ]
    }
   ],
   "source": [
    "# 🔄 PIVOT TABLE\n",
    "\n",
    "# Create a pivot table showing total runs by role and team\n",
    "pivot_table = pd.pivot_table(\n",
    "    df,\n",
    "    values=\"total_runs\",\n",
    "    index=\"team\",\n",
    "    columns=\"role\",\n",
    "    aggfunc=\"sum\",\n",
    "    fill_value=0\n",
    ")\n",
    "\n",
    "# Display the pivot table\n",
    "print(\"📊 Pivot Table - Total Runs by Role and Team:\")\n",
    "print(pivot_table)\n"
   ]
  }
 ],
 "metadata": {
  "kernelspec": {
   "display_name": "Python 3",
   "language": "python",
   "name": "python3"
  },
  "language_info": {
   "codemirror_mode": {
    "name": "ipython",
    "version": 3
   },
   "file_extension": ".py",
   "mimetype": "text/x-python",
   "name": "python",
   "nbconvert_exporter": "python",
   "pygments_lexer": "ipython3",
   "version": "3.11.5"
  },
  "orig_nbformat": 4
 },
 "nbformat": 4,
 "nbformat_minor": 2
}
